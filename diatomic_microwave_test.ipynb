{
 "cells": [
  {
   "cell_type": "code",
   "execution_count": 1,
   "id": "b0b9e393-8b50-4a97-a224-4412fdfb83cd",
   "metadata": {},
   "outputs": [
    {
     "name": "stdout",
     "output_type": "stream",
     "text": [
      "\u001b[1m\u001b[32m    Finished\u001b[0m dev [unoptimized + debuginfo] target(s) in 0.00s\n"
     ]
    }
   ],
   "source": [
    "!cargo build --example ex_diatomic_mw"
   ]
  },
  {
   "cell_type": "code",
   "execution_count": 2,
   "id": "38f4e0bc-6236-4ba9-8d0b-b4996d154e5b",
   "metadata": {},
   "outputs": [
    {
     "name": "stdout",
     "output_type": "stream",
     "text": [
      "\u001b[1m\u001b[32m    Finished\u001b[0m dev [unoptimized + debuginfo] target(s) in 0.00s\n",
      "\u001b[1m\u001b[32m     Running\u001b[0m `target/debug/examples/ex_diatomic_mw test_0.csv`\n"
     ]
    }
   ],
   "source": [
    "!cargo run --example ex_diatomic_mw  test_0.csv"
   ]
  },
  {
   "cell_type": "code",
   "execution_count": 3,
   "id": "855d2fb5-6a25-401a-a149-10c8fdb77c71",
   "metadata": {},
   "outputs": [
    {
     "name": "stdout",
     "output_type": "stream",
     "text": [
      "test_0.csv\n"
     ]
    }
   ],
   "source": [
    "!ls | grep \\.csv$"
   ]
  },
  {
   "cell_type": "code",
   "execution_count": 7,
   "id": "c4323c08-2964-4153-8598-69bfd4b3a474",
   "metadata": {},
   "outputs": [],
   "source": [
    "import pandas as pd\n",
    "import matplotlib.pyplot as plt"
   ]
  },
  {
   "cell_type": "code",
   "execution_count": 11,
   "id": "fc164b2c-3050-42e1-8d1b-1cd8d909930b",
   "metadata": {},
   "outputs": [],
   "source": [
    "df_csv = pd.read_csv(\"test_0.csv\", header=None, names = [\"x\", \"y\"])"
   ]
  },
  {
   "cell_type": "code",
   "execution_count": 18,
   "id": "04a153c8-ba27-469c-b394-d4333eb20c5e",
   "metadata": {},
   "outputs": [
    {
     "data": {
      "text/html": [
       "<div>\n",
       "<style scoped>\n",
       "    .dataframe tbody tr th:only-of-type {\n",
       "        vertical-align: middle;\n",
       "    }\n",
       "\n",
       "    .dataframe tbody tr th {\n",
       "        vertical-align: top;\n",
       "    }\n",
       "\n",
       "    .dataframe thead th {\n",
       "        text-align: right;\n",
       "    }\n",
       "</style>\n",
       "<table border=\"1\" class=\"dataframe\">\n",
       "  <thead>\n",
       "    <tr style=\"text-align: right;\">\n",
       "      <th></th>\n",
       "      <th>x</th>\n",
       "      <th>y</th>\n",
       "    </tr>\n",
       "  </thead>\n",
       "  <tbody>\n",
       "    <tr>\n",
       "      <th>0</th>\n",
       "      <td>4</td>\n",
       "      <td>0.000088</td>\n",
       "    </tr>\n",
       "    <tr>\n",
       "      <th>1</th>\n",
       "      <td>8</td>\n",
       "      <td>0.000115</td>\n",
       "    </tr>\n",
       "    <tr>\n",
       "      <th>2</th>\n",
       "      <td>12</td>\n",
       "      <td>0.000151</td>\n",
       "    </tr>\n",
       "    <tr>\n",
       "      <th>3</th>\n",
       "      <td>16</td>\n",
       "      <td>0.000183</td>\n",
       "    </tr>\n",
       "    <tr>\n",
       "      <th>4</th>\n",
       "      <td>20</td>\n",
       "      <td>0.000209</td>\n",
       "    </tr>\n",
       "  </tbody>\n",
       "</table>\n",
       "</div>"
      ],
      "text/plain": [
       "    x         y\n",
       "0   4  0.000088\n",
       "1   8  0.000115\n",
       "2  12  0.000151\n",
       "3  16  0.000183\n",
       "4  20  0.000209"
      ]
     },
     "execution_count": 18,
     "metadata": {},
     "output_type": "execute_result"
    }
   ],
   "source": [
    "df_csv.head()"
   ]
  },
  {
   "cell_type": "code",
   "execution_count": 13,
   "id": "7bbf3fa1-eab8-4f38-8153-7c15a73f06b7",
   "metadata": {},
   "outputs": [],
   "source": [
    "data_x, data_y = df_csv[\"x\"], df_csv[\"y\"]"
   ]
  },
  {
   "cell_type": "code",
   "execution_count": 17,
   "id": "686074f4-a167-467d-832e-6d08563c846c",
   "metadata": {},
   "outputs": [
    {
     "data": {
      "image/png": "[encoded data removed]",
      "text/plain": [
       "<Figure size 640x480 with 1 Axes>"
      ]
     },
     "metadata": {},
     "output_type": "display_data"
    }
   ],
   "source": [
    "plt.scatter(data_x, data_y)\n",
    "plt.show()"
   ]
  },
  {
   "cell_type": "code",
   "execution_count": null,
   "id": "d4b283c9-220b-46a4-97c9-75076799fec9",
   "metadata": {},
   "outputs": [],
   "source": []
  }
 ],
 "metadata": {
  "kernelspec": {
   "display_name": "Python 3 (ipykernel)",
   "language": "python",
   "name": "python3"
  },
  "language_info": {
   "codemirror_mode": {
    "name": "ipython",
    "version": 3
   },
   "file_extension": ".py",
   "mimetype": "text/x-python",
   "name": "python",
   "nbconvert_exporter": "python",
   "pygments_lexer": "ipython3",
   "version": "3.12.3"
  }
 },
 "nbformat": 4,
 "nbformat_minor": 5
}
